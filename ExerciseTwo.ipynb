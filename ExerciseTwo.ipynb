{
 "metadata": {
  "name": "",
  "signature": "sha256:0ab4b8846dfbc3e02dffa3799459bf3156506caf7c14d70105bef9c85800ce07"
 },
 "nbformat": 3,
 "nbformat_minor": 0,
 "worksheets": [
  {
   "cells": [
    {
     "cell_type": "code",
     "collapsed": false,
     "input": [
      "from countlines import boofn         # boofn if the complete path + filename of the bookings file\n",
      "from countlines import seafn         # seafn if the complete path + filename of the searches file\n",
      "\n",
      "from csvContainer import csvContainer"
     ],
     "language": "python",
     "metadata": {},
     "outputs": [],
     "prompt_number": 1
    },
    {
     "cell_type": "markdown",
     "metadata": {},
     "source": [
      "First, create a new file for 2013"
     ]
    },
    {
     "cell_type": "code",
     "collapsed": false,
     "input": [
      "boo     = csvContainer(boofn)\n",
      "boofn13 = boofn.replace('.csv', '_2013.csv')\n",
      "boo.writeSubset('brd_time', '^2013.*', boofn13)"
     ],
     "language": "python",
     "metadata": {},
     "outputs": [],
     "prompt_number": 2
    },
    {
     "cell_type": "markdown",
     "metadata": {},
     "source": [
      "Then, use the 2013 file instead"
     ]
    },
    {
     "cell_type": "code",
     "collapsed": false,
     "input": [
      "boo = csvContainer(boofn13)\n",
      "res = boo.aggregate('pax', 'arr_port', lambda a, b: a + b)"
     ],
     "language": "python",
     "metadata": {},
     "outputs": [],
     "prompt_number": 3
    },
    {
     "cell_type": "code",
     "collapsed": false,
     "input": [
      "top10 = sorted(res, key = res.get, reverse = True)[0:10]"
     ],
     "language": "python",
     "metadata": {},
     "outputs": [],
     "prompt_number": 4
    },
    {
     "cell_type": "markdown",
     "metadata": {},
     "source": [
      "Just the codes"
     ]
    },
    {
     "cell_type": "code",
     "collapsed": false,
     "input": [
      "[(i, res[i]) for i in top10]"
     ],
     "language": "python",
     "metadata": {},
     "outputs": [
      {
       "metadata": {},
       "output_type": "pyout",
       "prompt_number": 5,
       "text": [
        "[('LHR', 81449.0),\n",
        " ('LAX', 64240.0),\n",
        " ('LAS', 63190.0),\n",
        " ('MCO', 62300.0),\n",
        " ('JFK', 60090.0),\n",
        " ('CDG', 58100.0),\n",
        " ('SFO', 53710.0),\n",
        " ('MIA', 53020.0),\n",
        " ('BKK', 52670.0),\n",
        " ('DXB', 52250.0)]"
       ]
      }
     ],
     "prompt_number": 5
    },
    {
     "cell_type": "markdown",
     "metadata": {},
     "source": [
      "With nice airport descriptions using GeoBases"
     ]
    },
    {
     "cell_type": "code",
     "collapsed": false,
     "input": [
      "[(res[i], boo.niceAirportDescription(i)) for i in top10]"
     ],
     "language": "python",
     "metadata": {},
     "outputs": [
      {
       "metadata": {},
       "output_type": "pyout",
       "prompt_number": 6,
       "text": [
        "[(81449.0, 'LHR: London Heathrow Airport, LON, United Kingdom'),\n",
        " (64240.0, 'LAX: Los Angeles International Airport, LAX, United States'),\n",
        " (63190.0, 'LAS: McCarran International Airport, LAS, United States'),\n",
        " (62300.0, 'MCO: Orlando International Airport, ORL, United States'),\n",
        " (60090.0, 'JFK: John F Kennedy International Airport, NYC, United States'),\n",
        " (58100.0, 'CDG: Paris - Charles-de-Gaulle, PAR, France'),\n",
        " (53710.0, 'SFO: San Francisco International Airport, SFO, United States'),\n",
        " (53020.0, 'MIA: Miami International Airport, MIA, United States'),\n",
        " (52670.0, 'BKK: Suvarnabhumi, BKK, Thailand'),\n",
        " (52250.0, 'DXB: Dubai International Airport, DXB, United Arab Emirates')]"
       ]
      }
     ],
     "prompt_number": 6
    },
    {
     "cell_type": "code",
     "collapsed": false,
     "input": [],
     "language": "python",
     "metadata": {},
     "outputs": [],
     "prompt_number": 6
    }
   ],
   "metadata": {}
  }
 ]
}