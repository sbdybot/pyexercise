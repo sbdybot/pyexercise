{
 "metadata": {
  "name": "",
  "signature": "sha256:e0a2c15feb4da9bf48c1e3e8f10130b4dfe9969402b7172ae399d9df1383f1ff"
 },
 "nbformat": 3,
 "nbformat_minor": 0,
 "worksheets": [
  {
   "cells": [
    {
     "cell_type": "code",
     "collapsed": false,
     "input": [
      "from countlines import boofn         # boofn if the complete path + filename of the bookings file\n",
      "from countlines import seafn         # seafn if the complete path + filename of the searches file\n",
      "\n",
      "from csvContainer import csvContainer"
     ],
     "language": "python",
     "metadata": {},
     "outputs": [],
     "prompt_number": 1
    },
    {
     "cell_type": "code",
     "collapsed": false,
     "input": [
      "boo = csvContainer(boofn)"
     ],
     "language": "python",
     "metadata": {},
     "outputs": [],
     "prompt_number": 2
    },
    {
     "cell_type": "code",
     "collapsed": false,
     "input": [
      "res = boo.aggregate('pax', 'arr_port', lambda a, b: a + b)"
     ],
     "language": "python",
     "metadata": {},
     "outputs": [],
     "prompt_number": 3
    },
    {
     "cell_type": "code",
     "collapsed": false,
     "input": [
      "top10 = sorted(res, key = res.get, reverse = True)[0:10]"
     ],
     "language": "python",
     "metadata": {},
     "outputs": [],
     "prompt_number": 4
    },
    {
     "cell_type": "markdown",
     "metadata": {},
     "source": [
      "Just the codes"
     ]
    },
    {
     "cell_type": "code",
     "collapsed": false,
     "input": [
      "[(i, res[i]) for i in top10]"
     ],
     "language": "python",
     "metadata": {},
     "outputs": [
      {
       "metadata": {},
       "output_type": "pyout",
       "prompt_number": 5,
       "text": [
        "[('LHR', 88809.0),\n",
        " ('MCO', 70930.0),\n",
        " ('LAX', 70530.0),\n",
        " ('LAS', 69630.0),\n",
        " ('JFK', 66270.0),\n",
        " ('CDG', 64490.0),\n",
        " ('BKK', 59460.0),\n",
        " ('MIA', 58150.0),\n",
        " ('SFO', 58000.0),\n",
        " ('DXB', 55590.0)]"
       ]
      }
     ],
     "prompt_number": 5
    },
    {
     "cell_type": "markdown",
     "metadata": {},
     "source": [
      "With nice airport descriptions using GeoBases"
     ]
    },
    {
     "cell_type": "code",
     "collapsed": false,
     "input": [
      "[(res[i], boo.niceAirportDescription(i)) for i in top10]"
     ],
     "language": "python",
     "metadata": {},
     "outputs": [
      {
       "metadata": {},
       "output_type": "pyout",
       "prompt_number": 6,
       "text": [
        "[(88809.0, 'LHR: London Heathrow Airport, LON, United Kingdom'),\n",
        " (70930.0, 'MCO: Orlando International Airport, ORL, United States'),\n",
        " (70530.0, 'LAX: Los Angeles International Airport, LAX, United States'),\n",
        " (69630.0, 'LAS: McCarran International Airport, LAS, United States'),\n",
        " (66270.0, 'JFK: John F Kennedy International Airport, NYC, United States'),\n",
        " (64490.0, 'CDG: Paris - Charles-de-Gaulle, PAR, France'),\n",
        " (59460.0, 'BKK: Suvarnabhumi, BKK, Thailand'),\n",
        " (58150.0, 'MIA: Miami International Airport, MIA, United States'),\n",
        " (58000.0, 'SFO: San Francisco International Airport, SFO, United States'),\n",
        " (55590.0, 'DXB: Dubai International Airport, DXB, United Arab Emirates')]"
       ]
      }
     ],
     "prompt_number": 6
    },
    {
     "cell_type": "code",
     "collapsed": false,
     "input": [],
     "language": "python",
     "metadata": {},
     "outputs": []
    }
   ],
   "metadata": {}
  }
 ]
}