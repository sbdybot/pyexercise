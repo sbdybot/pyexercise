{
 "metadata": {
  "name": "",
  "signature": "sha256:3579b17a1e202b3f7ab8b53f1f52f6dea66bfe6146c61a0ec43cd4ad359358b5"
 },
 "nbformat": 3,
 "nbformat_minor": 0,
 "worksheets": [
  {
   "cells": [
    {
     "cell_type": "markdown",
     "metadata": {},
     "source": [
      "Without any consideration about the rows containing the correct number of columns."
     ]
    },
    {
     "cell_type": "code",
     "collapsed": false,
     "input": [
      "from countlines import countlines\n",
      "from countlines import boofn         # boofn if the complete path + filename of the bookings file\n",
      "from countlines import seafn         # seafn if the complete path + filename of the searches file"
     ],
     "language": "python",
     "metadata": {},
     "outputs": [],
     "prompt_number": 1
    },
    {
     "cell_type": "code",
     "collapsed": false,
     "input": [
      "countlines(boofn)"
     ],
     "language": "python",
     "metadata": {},
     "outputs": [
      {
       "metadata": {},
       "output_type": "pyout",
       "prompt_number": 2,
       "text": [
        "10000011"
       ]
      }
     ],
     "prompt_number": 2
    },
    {
     "cell_type": "code",
     "collapsed": false,
     "input": [
      "countlines(seafn)"
     ],
     "language": "python",
     "metadata": {},
     "outputs": [
      {
       "metadata": {},
       "output_type": "pyout",
       "prompt_number": 3,
       "text": [
        "20390199"
       ]
      }
     ],
     "prompt_number": 3
    },
    {
     "cell_type": "markdown",
     "metadata": {},
     "source": [
      "Not counting neither the header nor the lines with incorrect number of columns."
     ]
    },
    {
     "cell_type": "code",
     "collapsed": false,
     "input": [
      "from csvContainer import csvContainer"
     ],
     "language": "python",
     "metadata": {},
     "outputs": [],
     "prompt_number": 4
    },
    {
     "cell_type": "code",
     "collapsed": false,
     "input": [
      "boo = csvContainer(boofn)\n",
      "boo.countlines()"
     ],
     "language": "python",
     "metadata": {},
     "outputs": [
      {
       "metadata": {},
       "output_type": "pyout",
       "prompt_number": 5,
       "text": [
        "10000009"
       ]
      }
     ],
     "prompt_number": 5
    },
    {
     "cell_type": "code",
     "collapsed": false,
     "input": [
      "sea = csvContainer(seafn)\n",
      "sea.countlines()"
     ],
     "language": "python",
     "metadata": {},
     "outputs": [
      {
       "metadata": {},
       "output_type": "pyout",
       "prompt_number": 6,
       "text": [
        "20390098"
       ]
      }
     ],
     "prompt_number": 6
    },
    {
     "cell_type": "markdown",
     "metadata": {},
     "source": [
      "Same as before, but counting the lines separated by comma"
     ]
    },
    {
     "cell_type": "code",
     "collapsed": false,
     "input": [
      "sea = csvContainer(seafn, auto = True)\n",
      "sea.countlines()"
     ],
     "language": "python",
     "metadata": {},
     "outputs": [
      {
       "metadata": {},
       "output_type": "pyout",
       "prompt_number": 7,
       "text": [
        "20390131"
       ]
      }
     ],
     "prompt_number": 7
    }
   ],
   "metadata": {}
  }
 ]
}