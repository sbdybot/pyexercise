{
 "metadata": {
  "name": "",
  "signature": "sha256:883f1dcdd2bbbe0892caad06e50cc2881af520a14deef9e5b18931178e100615"
 },
 "nbformat": 3,
 "nbformat_minor": 0,
 "worksheets": [
  {
   "cells": [
    {
     "cell_type": "code",
     "collapsed": false,
     "input": [
      "from countlines import boofn         # boofn if the complete path + filename of the bookings file\n",
      "from countlines import seafn         # seafn if the complete path + filename of the searches file\n",
      "\n",
      "from csvContainer import csvContainer"
     ],
     "language": "python",
     "metadata": {},
     "outputs": [],
     "prompt_number": 1
    },
    {
     "cell_type": "code",
     "collapsed": false,
     "input": [
      "sea = csvContainer(seafn)\n",
      "res = sea.join_step1()\n",
      "\n",
      "top10 = sorted(res, key = res.get, reverse = True)[0:10]\n",
      "bot10 = sorted(res, key = res.get)[0:10]"
     ],
     "language": "python",
     "metadata": {},
     "outputs": [],
     "prompt_number": 2
    },
    {
     "cell_type": "code",
     "collapsed": false,
     "input": [
      "top10"
     ],
     "language": "python",
     "metadata": {},
     "outputs": [
      {
       "metadata": {},
       "output_type": "pyout",
       "prompt_number": 3,
       "text": [
        "[('NCE', 'LGW', '2014-06-28'),\n",
        " ('NCE', 'LGW', '2013-06-28'),\n",
        " ('FRA', 'NYC', ''),\n",
        " ('STO', 'LON', '2013-12-09'),\n",
        " ('BSB', 'POA', '2013-07-06'),\n",
        " ('FRA', 'BKK', '2013-12-20'),\n",
        " ('STO', 'OSL', '2013-08-10'),\n",
        " ('RUH', 'JED', '2013-01-16'),\n",
        " ('AHB', 'RUH', '2013-08-12'),\n",
        " ('MUC', 'LON', '2013-05-25')]"
       ]
      }
     ],
     "prompt_number": 3
    },
    {
     "cell_type": "code",
     "collapsed": false,
     "input": [
      "bot10"
     ],
     "language": "python",
     "metadata": {},
     "outputs": [
      {
       "metadata": {},
       "output_type": "pyout",
       "prompt_number": 4,
       "text": [
        "[('ZFV', 'EWR', '2013-11-06'),\n",
        " ('PRG', 'XNA', '2014-09-21'),\n",
        " ('MUC', 'PUJ', '2014-02-04'),\n",
        " ('SAN', 'SFO', '2013-11-15'),\n",
        " ('SFO', 'FCO', '2013-11-29'),\n",
        " ('CKG', 'LAX', '2014-01-23'),\n",
        " ('CLO', 'ZRH', '2013-12-10'),\n",
        " ('DUS', 'MIA', '2014-03-14'),\n",
        " ('FRA', 'FTU', '2014-02-13'),\n",
        " ('LHR', 'ARN', '2013-11-02')]"
       ]
      }
     ],
     "prompt_number": 4
    },
    {
     "cell_type": "code",
     "collapsed": false,
     "input": [
      "[(i, res[i]) for i in bot10]"
     ],
     "language": "python",
     "metadata": {},
     "outputs": [
      {
       "metadata": {},
       "output_type": "pyout",
       "prompt_number": 5,
       "text": [
        "[(('ZFV', 'EWR', '2013-11-06'), 56),\n",
        " (('PRG', 'XNA', '2014-09-21'), 56),\n",
        " (('MUC', 'PUJ', '2014-02-04'), 56),\n",
        " (('SAN', 'SFO', '2013-11-15'), 56),\n",
        " (('SFO', 'FCO', '2013-11-29'), 56),\n",
        " (('CKG', 'LAX', '2014-01-23'), 56),\n",
        " (('CLO', 'ZRH', '2013-12-10'), 56),\n",
        " (('DUS', 'MIA', '2014-03-14'), 56),\n",
        " (('FRA', 'FTU', '2014-02-13'), 56),\n",
        " (('LHR', 'ARN', '2013-11-02'), 56)]"
       ]
      }
     ],
     "prompt_number": 5
    },
    {
     "cell_type": "code",
     "collapsed": false,
     "input": [
      "filtr = {('SAN', 'SFO', '2013-11-15'): 13}\n",
      "\n",
      "sea = csvContainer(seafn)\n",
      "sea.join_step2_search(filtr)\n",
      "boo = csvContainer(boofn)\n",
      "boo.join_step2_book(filtr)\n"
     ],
     "language": "python",
     "metadata": {},
     "outputs": [],
     "prompt_number": 6
    },
    {
     "cell_type": "code",
     "collapsed": false,
     "input": [
      "filtr = {('RUH', 'JED', '2013-01-16'): 7}\n",
      "\n",
      "sea = csvContainer(seafn)\n",
      "sea.join_step2_search(filtr)\n",
      "boo = csvContainer(boofn)\n",
      "boo.join_step2_book(filtr)\n",
      "\n"
     ],
     "language": "python",
     "metadata": {},
     "outputs": [],
     "prompt_number": 7
    },
    {
     "cell_type": "markdown",
     "metadata": {},
     "source": [
      "Examine the files in the ruhjed and sfosan folders and read the explanation in OnJoiningSearchesWithBookings.txt"
     ]
    },
    {
     "cell_type": "code",
     "collapsed": false,
     "input": [],
     "language": "python",
     "metadata": {},
     "outputs": []
    }
   ],
   "metadata": {}
  }
 ]
}