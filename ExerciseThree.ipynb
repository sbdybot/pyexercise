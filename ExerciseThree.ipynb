{
 "metadata": {
  "name": "",
  "signature": "sha256:9727d678f4639d7c86171fd9575a8a8e6a22916c1dda6fa67e84d9310d572d29"
 },
 "nbformat": 3,
 "nbformat_minor": 0,
 "worksheets": [
  {
   "cells": [
    {
     "cell_type": "code",
     "collapsed": false,
     "input": [
      "from countlines import boofn         # boofn if the complete path + filename of the bookings file\n",
      "from countlines import seafn         # seafn if the complete path + filename of the searches file\n",
      "\n",
      "from csvContainer import csvContainer"
     ],
     "language": "python",
     "metadata": {},
     "outputs": [],
     "prompt_number": 1
    },
    {
     "cell_type": "code",
     "collapsed": false,
     "input": [
      "sea = csvContainer(seafn)\n",
      "res = sea.groupby(('Date', 'Destination'), (7, 3))    # Take the first 7 characters from 'Date' and the first 3 from 'Destination'"
     ],
     "language": "python",
     "metadata": {},
     "outputs": [],
     "prompt_number": 2
    },
    {
     "cell_type": "markdown",
     "metadata": {},
     "source": [
      "Airport code verification"
     ]
    },
    {
     "cell_type": "code",
     "collapsed": false,
     "input": [
      "print sea.niceAirportDescription('AGP'), '\\n', sea.niceAirportDescription('MAD'), '\\n', sea.niceAirportDescription('BCN')\n"
     ],
     "language": "python",
     "metadata": {},
     "outputs": [
      {
       "output_type": "stream",
       "stream": "stdout",
       "text": [
        "AGP: Malaga / Aeropuerto, AGP, Spain \n",
        "MAD: Madrid / Barajas, MAD, Spain \n",
        "BCN: Aeroport de Barcelona - el Prat, BCN, Spain\n"
       ]
      }
     ],
     "prompt_number": 3
    },
    {
     "cell_type": "code",
     "collapsed": false,
     "input": [
      "import matplotlib.pyplot as plt"
     ],
     "language": "python",
     "metadata": {},
     "outputs": [],
     "prompt_number": 4
    },
    {
     "cell_type": "code",
     "collapsed": false,
     "input": [
      "dt = ['2013-' + str(i + 1).rjust(2).replace(' ', '0') for i in range(12)]\n",
      "dt"
     ],
     "language": "python",
     "metadata": {},
     "outputs": [
      {
       "metadata": {},
       "output_type": "pyout",
       "prompt_number": 5,
       "text": [
        "['2013-01',\n",
        " '2013-02',\n",
        " '2013-03',\n",
        " '2013-04',\n",
        " '2013-05',\n",
        " '2013-06',\n",
        " '2013-07',\n",
        " '2013-08',\n",
        " '2013-09',\n",
        " '2013-10',\n",
        " '2013-11',\n",
        " '2013-12']"
       ]
      }
     ],
     "prompt_number": 5
    },
    {
     "cell_type": "code",
     "collapsed": false,
     "input": [
      "madX = tuple(zip(dt, ['MAD']*12))\n",
      "madY = [res[i] for i in madX]\n",
      "\n",
      "bcnX = tuple(zip(dt, ['BCN']*12))\n",
      "bcnY = [res[i] for i in bcnX]\n",
      "\n",
      "agpX = tuple(zip(dt, ['AGP']*12))\n",
      "agpY = [res[i] for i in agpX]"
     ],
     "language": "python",
     "metadata": {},
     "outputs": [],
     "prompt_number": 6
    },
    {
     "cell_type": "code",
     "collapsed": false,
     "input": [
      "x = [i + 1 for i in range(12)]\n",
      "\n",
      "plt.plot(x, madY, 'r', x, bcnY, 'g', x, agpY, 'b')\n",
      "plt.show()"
     ],
     "language": "python",
     "metadata": {},
     "outputs": [
      {
       "metadata": {},
       "output_type": "display_data",
       "png": "[encoded data removed]",
       "text": [
        "<matplotlib.figure.Figure at 0x11efcac8>"
       ]
      }
     ],
     "prompt_number": 7
    },
    {
     "cell_type": "code",
     "collapsed": false,
     "input": [],
     "language": "python",
     "metadata": {},
     "outputs": [],
     "prompt_number": 7
    }
   ],
   "metadata": {}
  }
 ]
}